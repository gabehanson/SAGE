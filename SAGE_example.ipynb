{
 "cells": [
  {
   "cell_type": "code",
   "execution_count": null,
   "id": "bf41e759-17ee-4dc7-a0c5-ac033109907d",
   "metadata": {
    "tags": []
   },
   "outputs": [],
   "source": [
    "from sage_plotting import kaplan_meier_plot\n",
    "from sage_survival_function import survival_analysis\n",
    "import pandas as pd\n",
    "import numpy as np\n"
   ]
  },
  {
   "cell_type": "markdown",
   "id": "39352e6e-6028-417c-8ee7-253596a019a5",
   "metadata": {
    "tags": []
   },
   "source": [
    "# Load some data"
   ]
  },
  {
   "cell_type": "code",
   "execution_count": null,
   "id": "d6ae856d-9ca5-4a27-9626-3171b8361579",
   "metadata": {
    "tags": []
   },
   "outputs": [],
   "source": [
    "df = pd.read_csv('/scratch/gh8sj/orien_data/data/processed_msigdb_survival_treatment.csv', index_col=0)"
   ]
  },
  {
   "cell_type": "code",
   "execution_count": null,
   "id": "8a636c1e-18b7-41bf-a98b-06a193acdd00",
   "metadata": {
    "tags": []
   },
   "outputs": [],
   "source": [
    "df"
   ]
  },
  {
   "cell_type": "code",
   "execution_count": null,
   "id": "2ca5a7e6-12d2-4c38-91ac-a0f58fefd602",
   "metadata": {
    "tags": []
   },
   "outputs": [],
   "source": [
    "gene_expression_df = df.iloc[:,:-4]\n",
    "survival_treatment_df = df.iloc[:,-4:]"
   ]
  },
  {
   "cell_type": "code",
   "execution_count": null,
   "id": "eabcc18b-f905-4ab9-8460-8dfb20f0cd2e",
   "metadata": {
    "tags": []
   },
   "outputs": [],
   "source": [
    "kaplan_meier_plot(\n",
    "    orien_data=gene_expression_df, \n",
    "    survival=survival_treatment_df,\n",
    "    time_col='months',\n",
    "    gene='HLA-DRA',\n",
    "    title='OS by HLA-DRA Expression in MHC 1 low patients in CBioPortal'\n",
    ")\n"
   ]
  },
  {
   "cell_type": "code",
   "execution_count": null,
   "id": "ec5fe4dc-64df-47f8-916c-f8698ab483e5",
   "metadata": {},
   "outputs": [],
   "source": []
  },
  {
   "cell_type": "code",
   "execution_count": null,
   "id": "4a7a64c8-33ff-4bbd-948d-a5c5de4677e8",
   "metadata": {},
   "outputs": [],
   "source": []
  }
 ],
 "metadata": {
  "kernelspec": {
   "display_name": "spy_cell",
   "language": "python",
   "name": "spy_cell"
  },
  "language_info": {
   "codemirror_mode": {
    "name": "ipython",
    "version": 3
   },
   "file_extension": ".py",
   "mimetype": "text/x-python",
   "name": "python",
   "nbconvert_exporter": "python",
   "pygments_lexer": "ipython3",
   "version": "3.11.5"
  }
 },
 "nbformat": 4,
 "nbformat_minor": 5
}
